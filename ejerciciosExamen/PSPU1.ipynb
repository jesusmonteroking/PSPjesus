{
 "cells": [
  {
   "cell_type": "markdown",
   "metadata": {},
   "source": [
    "multiprocessing consiste en un módulo diseñado para trabajar con procesos concurrentes, permitiendo la ejecución paralela de tareas y aprovechando múltiples núcleos de CPU. Facilita la creación, gestión y comunicación entre procesos."
   ]
  },
  {
   "cell_type": "code",
   "execution_count": null,
   "metadata": {},
   "outputs": [],
   "source": [
    "import multiprocessing \n",
    "import random #crea numeros aleatorios"
   ]
  },
  {
   "cell_type": "code",
   "execution_count": null,
   "metadata": {},
   "outputs": [],
   "source": [
    "output = multiprocessing.Queue() #cola de salida"
   ]
  },
  {
   "cell_type": "code",
   "execution_count": null,
   "metadata": {},
   "outputs": [],
   "source": [
    "output.put(\"aqui va el resultado de la operacion, y sirve para asignarle lugar en la cola.\")"
   ]
  },
  {
   "cell_type": "markdown",
   "metadata": {},
   "source": [
    "output lleva dentro una cola de procesos \"queue\"."
   ]
  },
  {
   "cell_type": "code",
   "execution_count": null,
   "metadata": {},
   "outputs": [],
   "source": [
    "processes = [mp.Process(target=rand_string, args=(5, output)) for x in range(4)]\n"
   ]
  },
  {
   "cell_type": "markdown",
   "metadata": {},
   "source": [
    "processes contiene en su interior una funcion de el multiprocessing (mp.Process) y ahi dentro definimos un limite y este nos da una lista de procesos"
   ]
  },
  {
   "cell_type": "code",
   "execution_count": null,
   "metadata": {},
   "outputs": [],
   "source": [
    "for p in processes:\n",
    "    p.start()\n",
    "\n",
    "# Exit the completed processes\n",
    "for p in processes:\n",
    "    p.join()"
   ]
  },
  {
   "cell_type": "markdown",
   "metadata": {},
   "source": [
    "aqui ejecutamos el codigo en un bucle definiendo el limite\n",
    "con la variable processes y como p a cada elemento del bucle\n",
    "p.start para arrancar el proceso\n",
    "p.join para salir"
   ]
  },
  {
   "cell_type": "code",
   "execution_count": null,
   "metadata": {},
   "outputs": [],
   "source": [
    "results = [output.get() for p in processes]\n",
    "\n",
    "print(results)"
   ]
  },
  {
   "cell_type": "markdown",
   "metadata": {},
   "source": [
    "results muestra los resultados que se generan en cada proceso"
   ]
  }
 ],
 "metadata": {
  "language_info": {
   "name": "python"
  }
 },
 "nbformat": 4,
 "nbformat_minor": 2
}
