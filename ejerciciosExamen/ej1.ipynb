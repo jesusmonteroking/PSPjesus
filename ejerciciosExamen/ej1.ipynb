{
 "cells": [
  {
   "cell_type": "markdown",
   "metadata": {},
   "source": [
    "    psutil (process and system utilities) es un modulo de python que permite obtener informacion sobre el sistema operativo y los procesos en ejecucion\n",
    "    time define el tieempo de ejecucion de un proceso\n",
    "    "
   ]
  },
  {
   "cell_type": "markdown",
   "metadata": {},
   "source": [
    "la funcion proceso_1, se utiliza para crear el primer proceso, se establece un limite de 10 segundos a traves de un bucle for\n",
    "ademas creamos un proceso hijo que controlamos que no se repita en bucle a traves de un if.\n"
   ]
  },
  {
   "cell_type": "code",
   "execution_count": null,
   "metadata": {},
   "outputs": [],
   "source": [
    "import subprocess\n",
    "import psutil\n",
    "import time\n",
    "import os\n",
    "import multiprocessing\n",
    "def proceso_1():\n",
    "    #Creo el proceso\n",
    "    print(\"Proceso 1 creado correctamente.\")\n",
    " \n",
    "    # Esperar 10 segundos\n",
    "    for i in range(10):\n",
    "        print(\"Esperando los 10 segundos, segundos actual: \" + str(i+1))\n",
    "        time.sleep(1)\n",
    " \n",
    "    #Para evitar que se haga un bucle infinito de forks\n",
    "    if os.fork() == 0:\n",
    "        print(\"Fork creado correctamente.\")\n",
    "        os._exit(0)"
   ]
  },
  {
   "cell_type": "markdown",
   "metadata": {},
   "source": [
    "La funcion proceso_2() crea el segundo proceso, en un bucle de 5 iteracciones.\n",
    "ademas cambia la prioridad del proceso al terminar gracias a psutil.Process(pasandole el pid del proceso).nice\n",
    "\n",
    "ademas de que hacemos pings a traves una variable llamada resutltado_ping que almacena en su interior una funcion\n",
    "llamada \"subprocess.run"
   ]
  },
  {
   "cell_type": "code",
   "execution_count": null,
   "metadata": {},
   "outputs": [],
   "source": [
    "import subprocess\n",
    "import psutil\n",
    "import time\n",
    "import os\n",
    "import multiprocessing\n",
    "\n",
    "def proceso_2():\n",
    "    # Creo el proceso\n",
    "    print(\"Proceso 2 creado correctamente.\")\n",
    " \n",
    "    # Esperar 5 segundos\n",
    "    for i in range(5):\n",
    "        print(\"Esperando los 5 segundos, segundo actual: \" + str(i+1))\n",
    "        time.sleep(1)\n",
    " \n",
    "    # Cambiar la prioridad del primer proceso\n",
    "    print(\"Prioridad del proceso 1: \" + str(psutil.Process(proceso1.pid).nice()))\n",
    "    psutil.Process(proceso1.pid).nice(10)\n",
    "    print(\"Prioridad del proceso 1 cambiada correctamente, nueva prioridad: \" + str(psutil.Process(proceso1.pid).nice()))\n",
    " \n",
    "    # Lanzar el comando ping a la web de google\n",
    "    try:\n",
    "        resultado_ping = subprocess.run([\"ping\", \"-c\", \"4\", \"google.com\"], check=True, capture_output=True)\n",
    "        print(\"Resultado del ping a google.com:\")\n",
    "        print(resultado_ping.stdout.decode())\n",
    "    except subprocess.CalledProcessError as e:\n",
    "        print(f\"Error al hacer ping a google.com: {e.stderr.decode()}\")"
   ]
  },
  {
   "cell_type": "markdown",
   "metadata": {},
   "source": [
    "creamos dos objetos procesos relacionados con las funciones proceso_1 y proceso_2 \n",
    "\n",
    "proceso1/2.start(), arranca los procesos.\n",
    "\n",
    "proceso1/2.join(), espera y finaliza los procesos.\n",
    "\n",
    "creamos una excepcion en medio de proceso1.join para acabar el proceso2 antes de tiempo\n",
    "utilizamos el psutil.process_iter() para saber la cantidad de procesos que tenemos.\n",
    "\n",
    "utilizamos proc para acceder al objeto en cada iteracion.\n",
    "\n",
    "comprobamos los pid de cada proceso.\n"
   ]
  },
  {
   "cell_type": "code",
   "execution_count": null,
   "metadata": {},
   "outputs": [],
   "source": [
    "import subprocess\n",
    "import psutil\n",
    "import time\n",
    "import os\n",
    "import multiprocessing\n",
    " \n",
    "if __name__ == \"__main__\":\n",
    "    #Creo el primer proceso\n",
    "    proceso1 = multiprocessing.Process(target=proceso_1,name=\"proceso1\")\n",
    "    proceso2 = multiprocessing.Process(target=proceso_2,name=\"proceso2\")\n",
    " \n",
    "    # Creo el segundo proceso\n",
    " \n",
    "    proceso1.start()\n",
    "    proceso2.start()\n",
    " \n",
    "    # listar_procesos()\n",
    " \n",
    "    proceso1.join()\n",
    " \n",
    "    # Cuando termina el primer proceso se mata al otro proceso\n",
    "    try:\n",
    "        for proc in psutil.process_iter():\n",
    "            if proc.pid == proceso2.pid:\n",
    "                print(\"Proceso a matar: \" + str(proc.pid))\n",
    "                proc.kill()\n",
    "                print(\"Proceso matado correctamente.\")\n",
    "                break\n",
    "    except psutil.NoSuchProcess:\n",
    "        print(\"No existe un proceso con el PID \" + str(proceso2.pid))\n",
    " \n",
    "    proceso2.join()\n",
    " \n",
    "    print(\"Terminado\")"
   ]
  }
 ],
 "metadata": {
  "language_info": {
   "name": "python"
  }
 },
 "nbformat": 4,
 "nbformat_minor": 2
}
